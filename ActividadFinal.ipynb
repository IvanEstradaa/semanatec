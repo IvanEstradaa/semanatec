{
  "nbformat": 4,
  "nbformat_minor": 0,
  "metadata": {
    "colab": {
      "provenance": []
    },
    "kernelspec": {
      "name": "python3",
      "display_name": "Python 3"
    },
    "language_info": {
      "name": "python"
    }
  },
  "cells": [
    {
      "cell_type": "markdown",
      "source": [
        "# Integrantes\n",
        "\n",
        "Fernanda Díaz Gutiérrez A01639572\n",
        "\n",
        "Paul Enrique Alonso Ramírez A01634608\n",
        "\n",
        "Salvador Bravo Garnica A01068209\n",
        "\n",
        "Iván Estrada Cárdenas A01643642\n",
        "\n",
        "Brizeth Alejandra Solano A01742281"
      ],
      "metadata": {
        "id": "5qu3okr3_fB8"
      }
    },
    {
      "cell_type": "markdown",
      "source": [
        "# Introducción al data set\n",
        "\n",
        "El dataset contiene un listado de inmobiliarías seccionadas por estado y código postal. La información se recabó de realtor.com.\n",
        "\n",
        "[Fuente](https://www.kaggle.com/datasets/ahmedshahriarsakib/usa-real-estate-dataset)"
      ],
      "metadata": {
        "id": "ArObqC8NAoIC"
      }
    },
    {
      "cell_type": "markdown",
      "source": [
        "# Objetivo de K-means\n",
        "\n",
        "K-means es un algoritmo de clustering utilizado para descubrir grupos que no han sido explícitamente etiquetados con la información. Algunas de sus aplicaciones son el agrupamiento de imágenes, detección de anomalías entre otras.\n",
        "\n",
        "El algoritmo identifica un cierto número de centroides en el dataset. Un centroide es la media arimética de todos los puntos pertenecientes a un cluster.\n",
        "\n",
        "[Fuente](https://www.nvidia.com/en-us/glossary/data-science/k-means/)"
      ],
      "metadata": {
        "id": "H0LsIYlvAqUL"
      }
    },
    {
      "cell_type": "code",
      "source": [
        "import pandas as pd\n",
        "import seaborn as sns\n",
        "import matplotlib.pyplot as plt\n",
        "import numpy as np"
      ],
      "metadata": {
        "id": "e5dRNOfhCVsL"
      },
      "execution_count": null,
      "outputs": []
    },
    {
      "cell_type": "code",
      "source": [
        "df = pd.read_csv(\"realtor-data.csv\")"
      ],
      "metadata": {
        "id": "0M9CYea3C7z1"
      },
      "execution_count": null,
      "outputs": []
    },
    {
      "cell_type": "code",
      "source": [
        "del df[\"prev_sold_date\"]"
      ],
      "metadata": {
        "id": "FG3S8wB1FNUl"
      },
      "execution_count": null,
      "outputs": []
    },
    {
      "cell_type": "code",
      "source": [
        "df.dropna()"
      ],
      "metadata": {
        "colab": {
          "base_uri": "https://localhost:8080/",
          "height": 424
        },
        "id": "QR-5itZeHHvd",
        "outputId": "85f64803-f10b-4d3a-9488-5b78f9aff35f"
      },
      "execution_count": null,
      "outputs": [
        {
          "output_type": "execute_result",
          "data": {
            "text/plain": [
              "         status  bed  bath  acre_lot           city        state  zip_code  \\\n",
              "0      for_sale  3.0   2.0      0.12       Adjuntas  Puerto Rico     601.0   \n",
              "1      for_sale  4.0   2.0      0.08       Adjuntas  Puerto Rico     601.0   \n",
              "2      for_sale  2.0   1.0      0.15     Juana Diaz  Puerto Rico     795.0   \n",
              "3      for_sale  4.0   2.0      0.10          Ponce  Puerto Rico     731.0   \n",
              "5      for_sale  4.0   3.0      0.46  San Sebastian  Puerto Rico     612.0   \n",
              "...         ...  ...   ...       ...            ...          ...       ...   \n",
              "16790  for_sale  4.0   2.0      0.09        Bayamon  Puerto Rico     959.0   \n",
              "16792  for_sale  4.0   3.0      0.07       San Juan  Puerto Rico     921.0   \n",
              "16793  for_sale  3.0   2.0      0.10       San Juan  Puerto Rico     921.0   \n",
              "16795  for_sale  4.0   4.0      0.09       Carolina  Puerto Rico     985.0   \n",
              "16800  for_sale  4.0   1.0      0.11       San Juan  Puerto Rico     929.0   \n",
              "\n",
              "       house_size     price  \n",
              "0           920.0  105000.0  \n",
              "1          1527.0   80000.0  \n",
              "2           748.0   67000.0  \n",
              "3          1800.0  145000.0  \n",
              "5          2520.0  179000.0  \n",
              "...           ...       ...  \n",
              "16790      1100.0   86600.0  \n",
              "16792      1800.0  149900.0  \n",
              "16793      1700.0  180000.0  \n",
              "16795      1190.0  237500.0  \n",
              "16800      1387.0   11800.0  \n",
              "\n",
              "[9953 rows x 9 columns]"
            ],
            "text/html": [
              "\n",
              "  <div id=\"df-ea6c6f13-8bd9-4d03-b0f9-f58daebd7406\">\n",
              "    <div class=\"colab-df-container\">\n",
              "      <div>\n",
              "<style scoped>\n",
              "    .dataframe tbody tr th:only-of-type {\n",
              "        vertical-align: middle;\n",
              "    }\n",
              "\n",
              "    .dataframe tbody tr th {\n",
              "        vertical-align: top;\n",
              "    }\n",
              "\n",
              "    .dataframe thead th {\n",
              "        text-align: right;\n",
              "    }\n",
              "</style>\n",
              "<table border=\"1\" class=\"dataframe\">\n",
              "  <thead>\n",
              "    <tr style=\"text-align: right;\">\n",
              "      <th></th>\n",
              "      <th>status</th>\n",
              "      <th>bed</th>\n",
              "      <th>bath</th>\n",
              "      <th>acre_lot</th>\n",
              "      <th>city</th>\n",
              "      <th>state</th>\n",
              "      <th>zip_code</th>\n",
              "      <th>house_size</th>\n",
              "      <th>price</th>\n",
              "    </tr>\n",
              "  </thead>\n",
              "  <tbody>\n",
              "    <tr>\n",
              "      <th>0</th>\n",
              "      <td>for_sale</td>\n",
              "      <td>3.0</td>\n",
              "      <td>2.0</td>\n",
              "      <td>0.12</td>\n",
              "      <td>Adjuntas</td>\n",
              "      <td>Puerto Rico</td>\n",
              "      <td>601.0</td>\n",
              "      <td>920.0</td>\n",
              "      <td>105000.0</td>\n",
              "    </tr>\n",
              "    <tr>\n",
              "      <th>1</th>\n",
              "      <td>for_sale</td>\n",
              "      <td>4.0</td>\n",
              "      <td>2.0</td>\n",
              "      <td>0.08</td>\n",
              "      <td>Adjuntas</td>\n",
              "      <td>Puerto Rico</td>\n",
              "      <td>601.0</td>\n",
              "      <td>1527.0</td>\n",
              "      <td>80000.0</td>\n",
              "    </tr>\n",
              "    <tr>\n",
              "      <th>2</th>\n",
              "      <td>for_sale</td>\n",
              "      <td>2.0</td>\n",
              "      <td>1.0</td>\n",
              "      <td>0.15</td>\n",
              "      <td>Juana Diaz</td>\n",
              "      <td>Puerto Rico</td>\n",
              "      <td>795.0</td>\n",
              "      <td>748.0</td>\n",
              "      <td>67000.0</td>\n",
              "    </tr>\n",
              "    <tr>\n",
              "      <th>3</th>\n",
              "      <td>for_sale</td>\n",
              "      <td>4.0</td>\n",
              "      <td>2.0</td>\n",
              "      <td>0.10</td>\n",
              "      <td>Ponce</td>\n",
              "      <td>Puerto Rico</td>\n",
              "      <td>731.0</td>\n",
              "      <td>1800.0</td>\n",
              "      <td>145000.0</td>\n",
              "    </tr>\n",
              "    <tr>\n",
              "      <th>5</th>\n",
              "      <td>for_sale</td>\n",
              "      <td>4.0</td>\n",
              "      <td>3.0</td>\n",
              "      <td>0.46</td>\n",
              "      <td>San Sebastian</td>\n",
              "      <td>Puerto Rico</td>\n",
              "      <td>612.0</td>\n",
              "      <td>2520.0</td>\n",
              "      <td>179000.0</td>\n",
              "    </tr>\n",
              "    <tr>\n",
              "      <th>...</th>\n",
              "      <td>...</td>\n",
              "      <td>...</td>\n",
              "      <td>...</td>\n",
              "      <td>...</td>\n",
              "      <td>...</td>\n",
              "      <td>...</td>\n",
              "      <td>...</td>\n",
              "      <td>...</td>\n",
              "      <td>...</td>\n",
              "    </tr>\n",
              "    <tr>\n",
              "      <th>16790</th>\n",
              "      <td>for_sale</td>\n",
              "      <td>4.0</td>\n",
              "      <td>2.0</td>\n",
              "      <td>0.09</td>\n",
              "      <td>Bayamon</td>\n",
              "      <td>Puerto Rico</td>\n",
              "      <td>959.0</td>\n",
              "      <td>1100.0</td>\n",
              "      <td>86600.0</td>\n",
              "    </tr>\n",
              "    <tr>\n",
              "      <th>16792</th>\n",
              "      <td>for_sale</td>\n",
              "      <td>4.0</td>\n",
              "      <td>3.0</td>\n",
              "      <td>0.07</td>\n",
              "      <td>San Juan</td>\n",
              "      <td>Puerto Rico</td>\n",
              "      <td>921.0</td>\n",
              "      <td>1800.0</td>\n",
              "      <td>149900.0</td>\n",
              "    </tr>\n",
              "    <tr>\n",
              "      <th>16793</th>\n",
              "      <td>for_sale</td>\n",
              "      <td>3.0</td>\n",
              "      <td>2.0</td>\n",
              "      <td>0.10</td>\n",
              "      <td>San Juan</td>\n",
              "      <td>Puerto Rico</td>\n",
              "      <td>921.0</td>\n",
              "      <td>1700.0</td>\n",
              "      <td>180000.0</td>\n",
              "    </tr>\n",
              "    <tr>\n",
              "      <th>16795</th>\n",
              "      <td>for_sale</td>\n",
              "      <td>4.0</td>\n",
              "      <td>4.0</td>\n",
              "      <td>0.09</td>\n",
              "      <td>Carolina</td>\n",
              "      <td>Puerto Rico</td>\n",
              "      <td>985.0</td>\n",
              "      <td>1190.0</td>\n",
              "      <td>237500.0</td>\n",
              "    </tr>\n",
              "    <tr>\n",
              "      <th>16800</th>\n",
              "      <td>for_sale</td>\n",
              "      <td>4.0</td>\n",
              "      <td>1.0</td>\n",
              "      <td>0.11</td>\n",
              "      <td>San Juan</td>\n",
              "      <td>Puerto Rico</td>\n",
              "      <td>929.0</td>\n",
              "      <td>1387.0</td>\n",
              "      <td>11800.0</td>\n",
              "    </tr>\n",
              "  </tbody>\n",
              "</table>\n",
              "<p>9953 rows × 9 columns</p>\n",
              "</div>\n",
              "      <button class=\"colab-df-convert\" onclick=\"convertToInteractive('df-ea6c6f13-8bd9-4d03-b0f9-f58daebd7406')\"\n",
              "              title=\"Convert this dataframe to an interactive table.\"\n",
              "              style=\"display:none;\">\n",
              "        \n",
              "  <svg xmlns=\"http://www.w3.org/2000/svg\" height=\"24px\"viewBox=\"0 0 24 24\"\n",
              "       width=\"24px\">\n",
              "    <path d=\"M0 0h24v24H0V0z\" fill=\"none\"/>\n",
              "    <path d=\"M18.56 5.44l.94 2.06.94-2.06 2.06-.94-2.06-.94-.94-2.06-.94 2.06-2.06.94zm-11 1L8.5 8.5l.94-2.06 2.06-.94-2.06-.94L8.5 2.5l-.94 2.06-2.06.94zm10 10l.94 2.06.94-2.06 2.06-.94-2.06-.94-.94-2.06-.94 2.06-2.06.94z\"/><path d=\"M17.41 7.96l-1.37-1.37c-.4-.4-.92-.59-1.43-.59-.52 0-1.04.2-1.43.59L10.3 9.45l-7.72 7.72c-.78.78-.78 2.05 0 2.83L4 21.41c.39.39.9.59 1.41.59.51 0 1.02-.2 1.41-.59l7.78-7.78 2.81-2.81c.8-.78.8-2.07 0-2.86zM5.41 20L4 18.59l7.72-7.72 1.47 1.35L5.41 20z\"/>\n",
              "  </svg>\n",
              "      </button>\n",
              "      \n",
              "  <style>\n",
              "    .colab-df-container {\n",
              "      display:flex;\n",
              "      flex-wrap:wrap;\n",
              "      gap: 12px;\n",
              "    }\n",
              "\n",
              "    .colab-df-convert {\n",
              "      background-color: #E8F0FE;\n",
              "      border: none;\n",
              "      border-radius: 50%;\n",
              "      cursor: pointer;\n",
              "      display: none;\n",
              "      fill: #1967D2;\n",
              "      height: 32px;\n",
              "      padding: 0 0 0 0;\n",
              "      width: 32px;\n",
              "    }\n",
              "\n",
              "    .colab-df-convert:hover {\n",
              "      background-color: #E2EBFA;\n",
              "      box-shadow: 0px 1px 2px rgba(60, 64, 67, 0.3), 0px 1px 3px 1px rgba(60, 64, 67, 0.15);\n",
              "      fill: #174EA6;\n",
              "    }\n",
              "\n",
              "    [theme=dark] .colab-df-convert {\n",
              "      background-color: #3B4455;\n",
              "      fill: #D2E3FC;\n",
              "    }\n",
              "\n",
              "    [theme=dark] .colab-df-convert:hover {\n",
              "      background-color: #434B5C;\n",
              "      box-shadow: 0px 1px 3px 1px rgba(0, 0, 0, 0.15);\n",
              "      filter: drop-shadow(0px 1px 2px rgba(0, 0, 0, 0.3));\n",
              "      fill: #FFFFFF;\n",
              "    }\n",
              "  </style>\n",
              "\n",
              "      <script>\n",
              "        const buttonEl =\n",
              "          document.querySelector('#df-ea6c6f13-8bd9-4d03-b0f9-f58daebd7406 button.colab-df-convert');\n",
              "        buttonEl.style.display =\n",
              "          google.colab.kernel.accessAllowed ? 'block' : 'none';\n",
              "\n",
              "        async function convertToInteractive(key) {\n",
              "          const element = document.querySelector('#df-ea6c6f13-8bd9-4d03-b0f9-f58daebd7406');\n",
              "          const dataTable =\n",
              "            await google.colab.kernel.invokeFunction('convertToInteractive',\n",
              "                                                     [key], {});\n",
              "          if (!dataTable) return;\n",
              "\n",
              "          const docLinkHtml = 'Like what you see? Visit the ' +\n",
              "            '<a target=\"_blank\" href=https://colab.research.google.com/notebooks/data_table.ipynb>data table notebook</a>'\n",
              "            + ' to learn more about interactive tables.';\n",
              "          element.innerHTML = '';\n",
              "          dataTable['output_type'] = 'display_data';\n",
              "          await google.colab.output.renderOutput(dataTable, element);\n",
              "          const docLink = document.createElement('div');\n",
              "          docLink.innerHTML = docLinkHtml;\n",
              "          element.appendChild(docLink);\n",
              "        }\n",
              "      </script>\n",
              "    </div>\n",
              "  </div>\n",
              "  "
            ]
          },
          "metadata": {},
          "execution_count": 21
        }
      ]
    },
    {
      "cell_type": "markdown",
      "source": [
        "**Describe las medidas de centralidad, dispersión, skewness, kutorsis de cada variable**"
      ],
      "metadata": {
        "id": "PEyE4EiSBilj"
      }
    },
    {
      "cell_type": "markdown",
      "source": [
        "1. Medidas de centralidad"
      ],
      "metadata": {
        "id": "6SJAlou4IY2b"
      }
    },
    {
      "cell_type": "code",
      "source": [
        "median = df[[\"bed\", \"bath\", \"acre_lot\", \"zip_code\", \"house_size\", \"price\"]].median()\n",
        "mode = df[[\"bed\", \"bath\", \"acre_lot\", \"zip_code\", \"house_size\", \"price\"]].mode()\n",
        "mean = df[[\"bed\", \"bath\", \"acre_lot\", \"zip_code\", \"house_size\", \"price\"]]. mean()"
      ],
      "metadata": {
        "id": "5Gi4ImiyB2Mz"
      },
      "execution_count": null,
      "outputs": []
    },
    {
      "cell_type": "markdown",
      "source": [
        "2. Medidas de dispersión"
      ],
      "metadata": {
        "id": "dT0GySlBI0GY"
      }
    },
    {
      "cell_type": "code",
      "source": [
        "var = df[[\"bed\", \"bath\", \"acre_lot\", \"zip_code\", \"house_size\", \"price\"]].var()\n",
        "desvEst = df[[\"bed\", \"bath\", \"acre_lot\", \"zip_code\", \"house_size\", \"price\"]].std()\n",
        "max = df[[\"bed\", \"bath\", \"acre_lot\", \"zip_code\", \"house_size\", \"price\"]].max()\n",
        "min = df[[\"bed\", \"bath\", \"acre_lot\", \"zip_code\", \"house_size\", \"price\"]].min()"
      ],
      "metadata": {
        "id": "gNQB3oExI49I"
      },
      "execution_count": null,
      "outputs": []
    },
    {
      "cell_type": "markdown",
      "source": [
        "3. Skewness y kurtosis"
      ],
      "metadata": {
        "id": "PeBNDs-DI5M1"
      }
    },
    {
      "cell_type": "code",
      "source": [
        "skewness = df[[\"bed\", \"bath\", \"acre_lot\", \"zip_code\", \"house_size\", \"price\"]].skew()\n",
        "kurt = df[[\"bed\", \"bath\", \"acre_lot\", \"zip_code\", \"house_size\", \"price\"]].kurtosis()"
      ],
      "metadata": {
        "id": "4Ihp_44VI6qg"
      },
      "execution_count": null,
      "outputs": []
    },
    {
      "cell_type": "markdown",
      "source": [
        "4. Resumen\n",
        "\n"
      ],
      "metadata": {
        "id": "letESlX1Ker1"
      }
    },
    {
      "cell_type": "code",
      "source": [
        "print(f\"--- Mediana ---\\n{median}\")\n",
        "print(f\"--- Moda ---\\n{mode}\")\n",
        "print(f\"--- Media ---\\n{mean}\")\n",
        "print(f\"--- Varianza ---\\n{var}\")\n",
        "print(f\"--- Desviación Estandar ---\\n{desvEst}\")\n",
        "print(f\"--- Máximo ---\\n{max}\")\n",
        "print(f\"--- Mínimo ---\\n{min}\")\n",
        "print(f\"--- Skewness ---\\n{skewness}\")\n",
        "print(f\"--- Kurtosis ---\\n{kurt}\")"
      ],
      "metadata": {
        "id": "X57jwKgmKipj",
        "colab": {
          "base_uri": "https://localhost:8080/"
        },
        "outputId": "1b68c581-cd08-49bc-a0fc-758a31976d77"
      },
      "execution_count": null,
      "outputs": [
        {
          "output_type": "stream",
          "name": "stdout",
          "text": [
            "--- Mediana ---\n",
            "bed                3.00\n",
            "bath               2.00\n",
            "acre_lot           0.23\n",
            "zip_code         754.00\n",
            "house_size      1388.00\n",
            "price         145000.00\n",
            "dtype: float64\n",
            "--- Moda ---\n",
            "   bed  bath  acre_lot  zip_code  house_size     price\n",
            "0  3.0   2.0      0.08     820.0      1000.0  125000.0\n",
            "--- Media ---\n",
            "bed                3.655157\n",
            "bath               2.333914\n",
            "acre_lot           5.779423\n",
            "zip_code         823.600096\n",
            "house_size      2073.524125\n",
            "price         448504.630498\n",
            "dtype: float64\n",
            "--- Varianza ---\n",
            "bed           2.355079e+00\n",
            "bath          1.787333e+00\n",
            "acre_lot      4.984023e+03\n",
            "zip_code      3.734487e+06\n",
            "house_size    1.682340e+08\n",
            "price         1.700606e+12\n",
            "dtype: float64\n",
            "--- Desviación Estandar ---\n",
            "bed           1.534627e+00\n",
            "bath          1.336912e+00\n",
            "acre_lot      7.059761e+01\n",
            "zip_code      1.932482e+03\n",
            "house_size    1.297051e+04\n",
            "price         1.304073e+06\n",
            "dtype: float64\n",
            "--- Máximo ---\n",
            "bed                 33.00\n",
            "bath                35.00\n",
            "acre_lot          3600.11\n",
            "zip_code         95000.00\n",
            "house_size     1450112.00\n",
            "price         25000000.00\n",
            "dtype: float64\n",
            "--- Mínimo ---\n",
            "bed               1.0\n",
            "bath              1.0\n",
            "acre_lot          0.0\n",
            "zip_code        601.0\n",
            "house_size      235.0\n",
            "price         11800.0\n",
            "dtype: float64\n",
            "--- Skewness ---\n",
            "bed             2.317484\n",
            "bath            2.945906\n",
            "acre_lot       35.518280\n",
            "zip_code       48.524797\n",
            "house_size    108.361051\n",
            "price           9.329589\n",
            "dtype: float64\n",
            "--- Kurtosis ---\n",
            "bed              15.613196\n",
            "bath             32.188550\n",
            "acre_lot       1506.218805\n",
            "zip_code       2362.352559\n",
            "house_size    12092.707675\n",
            "price           113.750405\n",
            "dtype: float64\n"
          ]
        }
      ]
    },
    {
      "cell_type": "markdown",
      "source": [
        "**Grafica dos diagramas de caja y bigote**"
      ],
      "metadata": {
        "id": "bOKMwngwB3QT"
      }
    },
    {
      "cell_type": "code",
      "source": [
        "boxplot1 = df.boxplot(column=['price'],grid=False,fontsize=15)\n",
        "boxplot1.plot()\n",
        "plt.show()"
      ],
      "metadata": {
        "id": "j7WTlaltB9Rq",
        "colab": {
          "base_uri": "https://localhost:8080/",
          "height": 451
        },
        "outputId": "75469ec5-93f7-4d2f-cf48-28bfa069d5d9"
      },
      "execution_count": null,
      "outputs": [
        {
          "output_type": "display_data",
          "data": {
            "text/plain": [
              "<Figure size 640x480 with 1 Axes>"
            ],
            "image/png": "[encoded data removed]"
          },
          "metadata": {}
        }
      ]
    },
    {
      "cell_type": "code",
      "source": [
        "boxplot2 = df.boxplot(column=['house_size'],grid=False,fontsize=15)\n",
        "boxplot2.plot()\n",
        "plt.show()"
      ],
      "metadata": {
        "id": "WA7-ePoZPASO",
        "colab": {
          "base_uri": "https://localhost:8080/",
          "height": 452
        },
        "outputId": "5f11e1ed-e7fc-4e63-a5ed-98bec9969e1b"
      },
      "execution_count": null,
      "outputs": [
        {
          "output_type": "display_data",
          "data": {
            "text/plain": [
              "<Figure size 640x480 with 1 Axes>"
            ],
            "image/png": "[encoded data removed]"
          },
          "metadata": {}
        }
      ]
    },
    {
      "cell_type": "markdown",
      "source": [
        "Encuentra los **outliers por variable**"
      ],
      "metadata": {
        "id": "ji07b0dvB9bT"
      }
    },
    {
      "cell_type": "code",
      "source": [
        "def outliers(stats):\n",
        "  upper_bound = stats['75%'] + 1.5 * (stats['75%'] - stats['25%'])\n",
        "  print(\"Upper bound: \", upper_bound)\n",
        "  for i in stats:\n",
        "    if i > upper_bound:\n",
        "      print(i)\n",
        "  print(\"\")\n",
        "  low_bound = stats['25%'] - 1.5 * (stats['75%'] - stats['25%'])\n",
        "  print(\"Lower bound: \", low_bound)\n",
        "  for i in stats:\n",
        "    if i < low_bound:\n",
        "      print(i)\n",
        "  print(\"\")"
      ],
      "metadata": {
        "id": "6PdHOa5DCBT1"
      },
      "execution_count": null,
      "outputs": []
    },
    {
      "cell_type": "code",
      "source": [
        "print(\"bed: \\n\")\n",
        "outliers(df['bed'].describe())"
      ],
      "metadata": {
        "id": "AB1pS73WT_WV",
        "colab": {
          "base_uri": "https://localhost:8080/"
        },
        "outputId": "4306fca0-d8e8-482a-8d38-27d4891b6cf2"
      },
      "execution_count": null,
      "outputs": [
        {
          "output_type": "stream",
          "name": "stdout",
          "text": [
            "bed: \n",
            "\n",
            "Upper bound:  5.5\n",
            "13119.0\n",
            "33.0\n",
            "\n",
            "Lower bound:  1.5\n",
            "1.0\n",
            "\n"
          ]
        }
      ]
    },
    {
      "cell_type": "code",
      "source": [
        "print(\"bath: \\n\")\n",
        "outliers(df['bath'].describe())"
      ],
      "metadata": {
        "id": "QshvRJcYT_mI",
        "colab": {
          "base_uri": "https://localhost:8080/"
        },
        "outputId": "6aefe66a-ab1d-4b49-b388-20d0714aa4a4"
      },
      "execution_count": null,
      "outputs": [
        {
          "output_type": "stream",
          "name": "stdout",
          "text": [
            "bath: \n",
            "\n",
            "Upper bound:  4.5\n",
            "13198.0\n",
            "35.0\n",
            "\n",
            "Lower bound:  0.5\n",
            "\n"
          ]
        }
      ]
    },
    {
      "cell_type": "code",
      "source": [
        "print(\"zip_code: \\n\")\n",
        "outliers(df['zip_code'].describe())"
      ],
      "metadata": {
        "id": "sF7CXMVFT_os",
        "colab": {
          "base_uri": "https://localhost:8080/"
        },
        "outputId": "500c210b-19a9-4b18-b2c8-5545f7ec5225"
      },
      "execution_count": null,
      "outputs": [
        {
          "output_type": "stream",
          "name": "stdout",
          "text": [
            "zip_code: \n",
            "\n",
            "Upper bound:  1280.0\n",
            "16699.0\n",
            "1932.4821884090875\n",
            "95000.0\n",
            "\n",
            "Lower bound:  320.0\n",
            "\n"
          ]
        }
      ]
    },
    {
      "cell_type": "code",
      "source": [
        "print(\"zip_code: \\n\")\n",
        "outliers(df['zip_code'].describe())"
      ],
      "metadata": {
        "id": "AgkH2FS_gq3N",
        "colab": {
          "base_uri": "https://localhost:8080/"
        },
        "outputId": "03f17a0b-44ec-458f-d357-650ef58a31a9"
      },
      "execution_count": null,
      "outputs": [
        {
          "output_type": "stream",
          "name": "stdout",
          "text": [
            "zip_code: \n",
            "\n",
            "Upper bound:  1280.0\n",
            "16699.0\n",
            "1932.4821884090875\n",
            "95000.0\n",
            "\n",
            "Lower bound:  320.0\n",
            "\n"
          ]
        }
      ]
    },
    {
      "cell_type": "code",
      "source": [
        "print(\"house_size: \\n\")\n",
        "outliers(df['house_size'].describe())"
      ],
      "metadata": {
        "id": "3mQQfdeRT_rb",
        "colab": {
          "base_uri": "https://localhost:8080/"
        },
        "outputId": "6f4dcad4-6f83-4af4-b328-9d0741aadd56"
      },
      "execution_count": null,
      "outputs": [
        {
          "output_type": "stream",
          "name": "stdout",
          "text": [
            "house_size: \n",
            "\n",
            "Upper bound:  4205.625\n",
            "12850.0\n",
            "12970.506675541548\n",
            "1450112.0\n",
            "\n",
            "Lower bound:  -923.375\n",
            "\n"
          ]
        }
      ]
    },
    {
      "cell_type": "code",
      "source": [
        "print(\"price: \\n\")\n",
        "outliers(df['price'].describe())"
      ],
      "metadata": {
        "id": "swSAbwK_T_uf",
        "colab": {
          "base_uri": "https://localhost:8080/"
        },
        "outputId": "d94f0f55-a0ed-4077-e894-d22aad1b2ded"
      },
      "execution_count": null,
      "outputs": [
        {
          "output_type": "stream",
          "name": "stdout",
          "text": [
            "price: \n",
            "\n",
            "Upper bound:  682825.0\n",
            "1304072.8444652408\n",
            "25000000.0\n",
            "\n",
            "Lower bound:  -271375.0\n",
            "\n"
          ]
        }
      ]
    },
    {
      "cell_type": "markdown",
      "source": [
        "Desarrolla y describe un modelo de **K-means** para el dataset."
      ],
      "metadata": {
        "id": "R4XxoviaCBw_"
      }
    },
    {
      "cell_type": "code",
      "source": [
        "from scipy.spatial.distance import cdist\n",
        "\n",
        "def kmeans(X, k):\n",
        "    \n",
        "    # Step 1\n",
        "    idx = np.random.choice(len(X), k, replace = False)\n",
        "    centroids = X[idx, :]\n",
        "    \n",
        "    while True:\n",
        "        # Step 2\n",
        "        distances = cdist(X, centroids, 'euclidean')\n",
        "\n",
        "        # Step 3\n",
        "        points = np.array([np.argmin(i) for i in distances])\n",
        "\n",
        "        # Step 4\n",
        "        temp_centroids = []\n",
        "\n",
        "        for cluster in range(k):\n",
        "            # Update\n",
        "            temp_cluster_centroid = X[points == cluster].mean(axis = 0)\n",
        "            temp_centroids.append(temp_cluster_centroid)\n",
        "\n",
        "        temp_centroids = np.array(temp_centroids)\n",
        "\n",
        "        # Step 5\n",
        "        if ( (centroids == temp_centroids).all() ):\n",
        "            # Done\n",
        "            return points, centroids\n",
        "\n",
        "        else:\n",
        "            centroids = temp_centroids"
      ],
      "metadata": {
        "id": "NBsjQDl5Y-OA"
      },
      "execution_count": null,
      "outputs": []
    },
    {
      "cell_type": "code",
      "source": [
        "X = df[[\"house_size\",  \"price\"]].dropna().to_numpy()\n",
        "print(X)"
      ],
      "metadata": {
        "id": "cGCee56roZiC",
        "colab": {
          "base_uri": "https://localhost:8080/"
        },
        "outputId": "53eb5fbb-3bec-4768-d7d9-ad1acb4e9be7"
      },
      "execution_count": null,
      "outputs": [
        {
          "output_type": "stream",
          "name": "stdout",
          "text": [
            "[[   920. 105000.]\n",
            " [  1527.  80000.]\n",
            " [   748.  67000.]\n",
            " ...\n",
            " [  1798. 395000.]\n",
            " [  1229. 210000.]\n",
            " [  1387.  11800.]]\n"
          ]
        }
      ]
    },
    {
      "cell_type": "code",
      "source": [
        "k = 2\n",
        "points, centroids = kmeans(X, k)"
      ],
      "metadata": {
        "id": "d-4RAxxuCH6j"
      },
      "execution_count": null,
      "outputs": []
    },
    {
      "cell_type": "code",
      "source": [
        "centroids"
      ],
      "metadata": {
        "id": "hWp2YgNXUrp9",
        "colab": {
          "base_uri": "https://localhost:8080/"
        },
        "outputId": "6980415b-77ec-452b-c93a-a537b015a892"
      },
      "execution_count": null,
      "outputs": [
        {
          "output_type": "execute_result",
          "data": {
            "text/plain": [
              "array([[2.14268529e+04, 1.13684363e+07],\n",
              "       [1.91867320e+03, 3.40488730e+05]])"
            ]
          },
          "metadata": {},
          "execution_count": 39
        }
      ]
    },
    {
      "cell_type": "code",
      "source": [
        "df= pd.DataFrame()\n",
        "df['cluster'] = points\n",
        "df['x1'] = X[:, 0]\n",
        "df['x2'] = X[:, 1]\n",
        "\n",
        "#plot\n",
        "plt.figure(figsize=(8,5))\n",
        "sns.scatterplot(x = 'x1', y = 'x2', hue = 'cluster', data = df, legend = 'full', palette = 'tab20')\n",
        "plt.scatter(centroids[:, 0], centroids[:, 1], c = 'r', label = 'Centroids')\n",
        "plt.legend()\n",
        "\n",
        "plt.show()"
      ],
      "metadata": {
        "id": "w5Q_nFe_Ur94",
        "colab": {
          "base_uri": "https://localhost:8080/",
          "height": 480
        },
        "outputId": "f03fbf1f-8b97-4965-afc0-bba0846b755f"
      },
      "execution_count": null,
      "outputs": [
        {
          "output_type": "display_data",
          "data": {
            "text/plain": [
              "<Figure size 800x500 with 1 Axes>"
            ],
            "image/png": "[encoded data removed]"
          },
          "metadata": {}
        }
      ]
    }
  ]
}